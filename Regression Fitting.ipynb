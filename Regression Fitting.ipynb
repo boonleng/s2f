{
 "cells": [
  {
   "cell_type": "markdown",
   "metadata": {},
   "source": [
    "# Regression Fitting\n",
    "\n",
    "Data is downloaded from http://www.cryptodatadownload.com/data/bitstamp/"
   ]
  },
  {
   "cell_type": "code",
   "execution_count": null,
   "metadata": {},
   "outputs": [],
   "source": [
    "import csv\n",
    "import numpy as np\n",
    "\n",
    "import matplotlib\n",
    "import matplotlib.pyplot\n",
    "import matplotlib.patheffects\n",
    "\n",
    "import style\n",
    "style.use_dark_theme()\n",
    "# style.use_light_theme()"
   ]
  },
  {
   "cell_type": "code",
   "execution_count": null,
   "metadata": {},
   "outputs": [],
   "source": [
    "def history_from_csv(filename):\n",
    "    k = 0\n",
    "    data = []\n",
    "    header = []\n",
    "    with open(filename) as file:\n",
    "        reader = csv.reader(file, delimiter=',')\n",
    "        next(reader)\n",
    "        for row in reader:\n",
    "            if k > 0:\n",
    "                #data.append([float(x) for x in row])\n",
    "                data.append(row)\n",
    "            else:\n",
    "                header = row\n",
    "            k += 1\n",
    "    data = np.array(data)\n",
    "    return data, header"
   ]
  },
  {
   "cell_type": "code",
   "execution_count": null,
   "metadata": {},
   "outputs": [],
   "source": [
    "filename = 'Bitstamp_BTCUSD_d.csv'\n",
    "x, h = history_from_csv(filename)\n",
    "t = np.array(x[:, 0], dtype=float)\n",
    "d = x[:, 1]\n",
    "c = np.array(x[:, 7], dtype=float)"
   ]
  },
  {
   "cell_type": "code",
   "execution_count": null,
   "metadata": {},
   "outputs": [],
   "source": [
    "fig = matplotlib.pyplot.figure(figsize=(9, 4.5), dpi=160)\n",
    "ax = matplotlib.pyplot.axes([0.06, 0.08, 0.92, 0.82])\n",
    "ax.tick_params(axis='y')\n",
    "\n",
    "ax.semilogy(t, c)\n",
    "ax.grid()\n",
    "\n",
    "ax.set_xlabel('Date')\n",
    "ax.set_ylabel('Price')\n",
    "title_text = ax.set_title('Stock-to-Flow Model', fontweight='bold', fontsize=16)\n",
    "title_text.set_path_effects([\n",
    "    matplotlib.patheffects.Stroke(linewidth=1, foreground=(0, 0, 0, 0.7)),\n",
    "    matplotlib.patheffects.Normal()\n",
    "])"
   ]
  },
  {
   "cell_type": "code",
   "execution_count": null,
   "metadata": {},
   "outputs": [],
   "source": []
  }
 ],
 "metadata": {
  "kernelspec": {
   "display_name": "Python 3",
   "language": "python",
   "name": "python3"
  },
  "language_info": {
   "codemirror_mode": {
    "name": "ipython",
    "version": 3
   },
   "file_extension": ".py",
   "mimetype": "text/x-python",
   "name": "python",
   "nbconvert_exporter": "python",
   "pygments_lexer": "ipython3",
   "version": "3.8.4"
  }
 },
 "nbformat": 4,
 "nbformat_minor": 4
}
