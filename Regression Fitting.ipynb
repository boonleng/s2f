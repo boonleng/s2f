{
 "cells": [
  {
   "cell_type": "markdown",
   "metadata": {},
   "source": [
    "# Regression Fitting\n",
    "\n",
    "What could be a good dataset to try? How about historical price of Bitcoin?\n",
    "\n",
    "Data is downloaded from the following sources:\n",
    " - Price history from http://www.cryptodatadownload.com/data/bitstamp/\n",
    " - Transactions count from https://www.blockchain.com/charts/n-transactions"
   ]
  },
  {
   "cell_type": "code",
   "execution_count": null,
   "metadata": {},
   "outputs": [],
   "source": [
    "import os\n",
    "import csv\n",
    "import datetime\n",
    "import numpy as np\n",
    "import pandas as pd\n",
    "\n",
    "import matplotlib\n",
    "import matplotlib.pyplot\n",
    "import matplotlib.patheffects\n",
    "\n",
    "from sklearn.linear_model import LinearRegression\n",
    "\n",
    "import style\n",
    "style.use_dark_theme()\n",
    "# style.use_light_theme()"
   ]
  },
  {
   "cell_type": "code",
   "execution_count": null,
   "metadata": {},
   "outputs": [],
   "source": [
    "def history_from_csv(filename, startrow=0):\n",
    "    k = 0\n",
    "    data = []\n",
    "    header = []\n",
    "    with open(filename) as file:\n",
    "        reader = csv.reader(file, delimiter=',')\n",
    "        for _ in range(startrow):\n",
    "            next(reader)\n",
    "        for row in reader:\n",
    "            if k > 0:\n",
    "                #data.append([float(x) for x in row])\n",
    "                data.append(row)\n",
    "            else:\n",
    "                header = row\n",
    "            k += 1\n",
    "    data = np.array(data)\n",
    "    return data, header"
   ]
  },
  {
   "cell_type": "code",
   "execution_count": null,
   "metadata": {},
   "outputs": [],
   "source": [
    "years = matplotlib.dates.YearLocator()             # every year\n",
    "months = matplotlib.dates.MonthLocator()           # every month\n",
    "years_fmt = matplotlib.dates.DateFormatter('%Y')"
   ]
  },
  {
   "cell_type": "markdown",
   "metadata": {},
   "source": [
    "### Price History"
   ]
  },
  {
   "cell_type": "code",
   "execution_count": null,
   "metadata": {},
   "outputs": [],
   "source": [
    "filename = 'Bitstamp_BTCUSD_d.csv'\n",
    "x, h = history_from_csv(filename, startrow=1)\n",
    "d = [datetime.datetime.fromtimestamp(int(n[:-2])) for n in x[:, 0]]\n",
    "p = [float(n) for n in x[:, 6]]\n",
    "\n",
    "# pdf = pd.DataFrame({'Date': d, 'Price':p})\n",
    "pdf = pd.DataFrame({'Price':p}, index=d, )\n",
    "wpdf = pdf.resample('W-Mon').last()\n",
    "wpdf.head(5)"
   ]
  },
  {
   "cell_type": "code",
   "execution_count": null,
   "metadata": {},
   "outputs": [],
   "source": [
    "fig = matplotlib.pyplot.figure(figsize=(9, 4.5), dpi=160)\n",
    "ax = matplotlib.pyplot.axes([0.06, 0.08, 0.92, 0.82])\n",
    "ax.tick_params(axis='y')\n",
    "\n",
    "# ax.semilogy(t, c)\n",
    "ax.semilogy(wpdf.index, wpdf.values)\n",
    "ax.grid()\n",
    "\n",
    "# format the ticks\n",
    "ax.xaxis.set_major_locator(years)\n",
    "ax.xaxis.set_major_formatter(years_fmt)\n",
    "ax.xaxis.set_minor_locator(months)\n",
    "\n",
    "ax.set_xlabel('Date')\n",
    "ax.set_ylabel('Price')\n",
    "title_text = ax.set_title('Price', fontweight='bold', fontsize=16)\n",
    "title_text.set_path_effects([\n",
    "    matplotlib.patheffects.Stroke(linewidth=1, foreground=(0, 0, 0, 0.7)),\n",
    "    matplotlib.patheffects.Normal()\n",
    "])"
   ]
  },
  {
   "cell_type": "markdown",
   "metadata": {},
   "source": [
    "### Transactions History"
   ]
  },
  {
   "cell_type": "code",
   "execution_count": null,
   "metadata": {},
   "outputs": [],
   "source": [
    "filename = os.path.expanduser('~/Downloads/btc-trns.csv')\n",
    "x, h = history_from_csv(filename)\n",
    "d = [datetime.datetime.strptime(n, '%Y-%m-%d %H:%M:%S') for n in x[:, 0]]\n",
    "# t = matplotlib.dates.date2num(t)\n",
    "t = [int(n) for n in x[:, 1]]\n",
    "\n",
    "tdf = pd.DataFrame({'Transactions':t}, index=d)\n",
    "# weekly = tdf.resample('W-Mon', on='Date').sum()\n",
    "wtdf = tdf.resample('W-Mon').mean()\n",
    "wtdf.head(5)"
   ]
  },
  {
   "cell_type": "code",
   "execution_count": null,
   "metadata": {},
   "outputs": [],
   "source": [
    "fig = matplotlib.pyplot.figure(figsize=(9, 4.5), dpi=160)\n",
    "ax = matplotlib.pyplot.axes([0.06, 0.08, 0.92, 0.82])\n",
    "ax.tick_params(axis='y')\n",
    "ax.semilogy(d, t, label='daily')\n",
    "ax.semilogy(wtdf.index, wtdf.values, label='weekly avg')\n",
    "ax.legend()\n",
    "ax.grid()\n",
    "\n",
    "# format the ticks\n",
    "ax.xaxis.set_major_locator(years)\n",
    "ax.xaxis.set_major_formatter(years_fmt)\n",
    "ax.xaxis.set_minor_locator(months)\n",
    "\n",
    "ax.set_xlabel('Date')\n",
    "ax.set_ylabel('Transactions')\n",
    "title_text = ax.set_title('BTC Transactions', fontweight='bold', fontsize=16)\n",
    "title_text.set_path_effects([\n",
    "    matplotlib.patheffects.Stroke(linewidth=1, foreground=(0, 0, 0, 0.7)),\n",
    "    matplotlib.patheffects.Normal()\n",
    "])"
   ]
  },
  {
   "cell_type": "code",
   "execution_count": null,
   "metadata": {},
   "outputs": [],
   "source": [
    "s = np.cumsum(t)\n",
    "s2f = s / t"
   ]
  },
  {
   "cell_type": "code",
   "execution_count": null,
   "metadata": {},
   "outputs": [],
   "source": [
    "fig = matplotlib.pyplot.figure(figsize=(9, 4.5), dpi=160)\n",
    "ax = matplotlib.pyplot.axes([0.06, 0.08, 0.92, 0.82])\n",
    "ax.tick_params(axis='y')\n",
    "ax.semilogy(d, s, label='stock')\n",
    "ax.semilogy(d, s2f, '.', markersize=3, label='S2F')\n",
    "ax.grid()\n",
    "\n",
    "# format the ticks\n",
    "ax.xaxis.set_major_locator(years)\n",
    "ax.xaxis.set_major_formatter(years_fmt)\n",
    "ax.xaxis.set_minor_locator(months)\n",
    "\n",
    "ax.set_xlabel('Date')\n",
    "ax.set_ylabel('Transactions')\n",
    "title_text = ax.set_title('BTC Transactions', fontweight='bold', fontsize=16)\n",
    "title_text.set_path_effects([\n",
    "    matplotlib.patheffects.Stroke(linewidth=1, foreground=(0, 0, 0, 0.7)),\n",
    "    matplotlib.patheffects.Normal()\n",
    "])"
   ]
  },
  {
   "cell_type": "code",
   "execution_count": null,
   "metadata": {},
   "outputs": [],
   "source": [
    "fig = matplotlib.pyplot.figure(figsize=(9, 4.5), dpi=160)\n",
    "ax = matplotlib.pyplot.axes([0.06, 0.08, 0.92, 0.82])\n",
    "ax.tick_params(axis='y')\n",
    "ax.loglog(s2f, s, '.', label='stock')\n",
    "# ax.semilogy(t, s2f, '.', markersize=3, label='S2F')\n",
    "ax.grid()\n",
    "\n",
    "# # format the ticks\n",
    "# ax.xaxis.set_major_locator(years)\n",
    "# ax.xaxis.set_major_formatter(years_fmt)\n",
    "# ax.xaxis.set_minor_locator(months)\n",
    "\n",
    "ax.set_xlabel('S2F')\n",
    "ax.set_ylabel('Transactions')\n",
    "title_text = ax.set_title('BTC S2F', fontweight='bold', fontsize=16)\n",
    "title_text.set_path_effects([\n",
    "    matplotlib.patheffects.Stroke(linewidth=1, foreground=(0, 0, 0, 0.7)),\n",
    "    matplotlib.patheffects.Normal()\n",
    "])"
   ]
  },
  {
   "cell_type": "code",
   "execution_count": null,
   "metadata": {},
   "outputs": [],
   "source": [
    "x = np.array([[1, 1], [1, 2], [2, 2], [2, 3]])\n",
    "# y = 1 * x_0 + 2 * x_1 + 3\n",
    "y = np.dot(x, np.array([1, 2])) + 3\n",
    "reg = LinearRegression().fit(x, y)\n",
    "reg.score(x, y)"
   ]
  },
  {
   "cell_type": "code",
   "execution_count": null,
   "metadata": {},
   "outputs": [],
   "source": [
    "reg.coef_"
   ]
  },
  {
   "cell_type": "code",
   "execution_count": null,
   "metadata": {},
   "outputs": [],
   "source": [
    "reg.intercept_"
   ]
  }
 ],
 "metadata": {
  "kernelspec": {
   "display_name": "Python 3",
   "language": "python",
   "name": "python3"
  },
  "language_info": {
   "codemirror_mode": {
    "name": "ipython",
    "version": 3
   },
   "file_extension": ".py",
   "mimetype": "text/x-python",
   "name": "python",
   "nbconvert_exporter": "python",
   "pygments_lexer": "ipython3",
   "version": "3.8.4"
  }
 },
 "nbformat": 4,
 "nbformat_minor": 4
}
