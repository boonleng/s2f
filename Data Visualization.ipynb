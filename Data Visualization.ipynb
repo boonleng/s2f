{
 "cells": [
  {
   "cell_type": "markdown",
   "metadata": {},
   "source": [
    "# Data Visualization\n",
    "\n",
    "What could be a good dataset to try? How about historical price of Bitcoin?\n",
    "\n",
    "Data is downloaded from the following source(s):\n",
    " - Price history https://www.blockchain.com/charts/market-price\n",
    " - Transaction count https://www.blockchain.com/charts/n-transactions\n",
    " - Total circulating bitcoin https://www.blockchain.com/charts/total-bitcoins"
   ]
  },
  {
   "cell_type": "code",
   "execution_count": null,
   "metadata": {},
   "outputs": [],
   "source": [
    "import os\n",
    "import csv\n",
    "import datetime\n",
    "import numpy as np\n",
    "import pandas as pd\n",
    "\n",
    "import matplotlib\n",
    "import matplotlib.pyplot\n",
    "import matplotlib.patheffects\n",
    "\n",
    "from sklearn.linear_model import LinearRegression, RANSACRegressor\n",
    "\n",
    "import style\n",
    "style.use_dark_theme()\n",
    "# style.use_light_theme()"
   ]
  },
  {
   "cell_type": "code",
   "execution_count": null,
   "metadata": {},
   "outputs": [],
   "source": [
    "def history_from_csv(filename, startrow=0):\n",
    "    k = 0\n",
    "    data = []\n",
    "    header = []\n",
    "    with open(filename) as file:\n",
    "        reader = csv.reader(file, delimiter=',')\n",
    "        for _ in range(startrow):\n",
    "            next(reader)\n",
    "        for row in reader:\n",
    "            if k > 0:\n",
    "                #data.append([float(x) for x in row])\n",
    "                data.append(row)\n",
    "            else:\n",
    "                header = row\n",
    "            k += 1\n",
    "    data = np.array(data)\n",
    "    return data, header"
   ]
  },
  {
   "cell_type": "code",
   "execution_count": null,
   "metadata": {},
   "outputs": [],
   "source": [
    "def v2str(v):\n",
    "    d = int(np.maximum(-np.log10(v), 0))\n",
    "    return ('{{:,.{:d}f}}'.format(d)).format(v)\n",
    "\n",
    "xfmt = matplotlib.ticker.FuncFormatter(lambda x, pos: v2str(x))\n",
    "yfmt = matplotlib.ticker.FuncFormatter(lambda y, pos: '$' + v2str(y))\n",
    "\n",
    "years = matplotlib.dates.YearLocator()             # every year\n",
    "months = matplotlib.dates.MonthLocator()           # every month\n",
    "years_fmt = matplotlib.dates.DateFormatter('%Y')"
   ]
  },
  {
   "cell_type": "markdown",
   "metadata": {},
   "source": [
    "### History of Price, Transaction, and Circulating Coins from CSV Files"
   ]
  },
  {
   "cell_type": "code",
   "execution_count": null,
   "metadata": {},
   "outputs": [],
   "source": [
    "def str2datetime(x):\n",
    "    return [datetime.datetime.strptime(n, '%Y-%m-%d %H:%M:%S').replace(hour=0, minute=0, second=0, microsecond=0) for n in x]\n",
    "\n",
    "# Data points are very sparse, so we will resample them in weeks\n",
    "rss = 'W-Mon'\n",
    "# rss = 'M'\n",
    "\n",
    "filename = 'btc-price.csv'\n",
    "x, _ = history_from_csv(filename)\n",
    "d = str2datetime(x[:, 0])\n",
    "p = [float(n) for n in x[:, 1]]\n",
    "pp = pd.DataFrame({'Price':p}, index=d)\n",
    "wp = pp.resample(rss).last()\n",
    "\n",
    "filename = 'btc-trns.csv'\n",
    "x, _ = history_from_csv(filename)\n",
    "d = str2datetime(x[:, 0])\n",
    "t = [int(n) for n in x[:, 1]]\n",
    "tt = pd.DataFrame({'Transactions':t}, index=d)\n",
    "wt = tt.resample(rss).mean()\n",
    "\n",
    "filename = 'btc-stock.csv'\n",
    "x, _ = history_from_csv(filename)\n",
    "d = str2datetime(x[:, 0])\n",
    "s = [float(n) for n in x[:, 1]]\n",
    "f = np.concatenate(([s[0], ], np.diff(np.array(s))))\n",
    "ss = pd.DataFrame({'Stock':s, 'Flow':f}, index=d)\n",
    "ws = ss.resample(rss).mean().interpolate()"
   ]
  },
  {
   "cell_type": "markdown",
   "metadata": {},
   "source": [
    "### Combine Tables"
   ]
  },
  {
   "cell_type": "code",
   "execution_count": null,
   "metadata": {},
   "outputs": [],
   "source": [
    "df = pd.concat([wp, wt, ws], axis=1, join='inner')\n",
    "df.head(5)"
   ]
  },
  {
   "cell_type": "code",
   "execution_count": null,
   "metadata": {},
   "outputs": [],
   "source": [
    "d = df.index            # Date\n",
    "p = df.values[:, 0]     # Price\n",
    "t = df.values[:, 1]     # Transactions (Flow)\n",
    "s = df.values[:, 2]     # Stock\n",
    "f = df.values[:, 3]     # Flow\n",
    "s2f = s / (f * 365.25)  # Stock-to-Flow Ratio (annualized))\n",
    "mc = s * p"
   ]
  },
  {
   "cell_type": "code",
   "execution_count": null,
   "metadata": {},
   "outputs": [],
   "source": [
    "fig = matplotlib.pyplot.figure(figsize=(9, 4.5), dpi=144)\n",
    "ax = matplotlib.pyplot.axes([0.06, 0.08, 0.92, 0.82])\n",
    "ax.semilogy(d, p, label='Price')\n",
    "ax.semilogy(d, t, label='Trans')\n",
    "ax.semilogy(d, s, label='Count')\n",
    "ax.semilogy(d, s2f, '.', markersize=2, label='S2F')\n",
    "ax.legend()\n",
    "ax.grid()\n",
    "ax.xaxis.set_major_locator(years)\n",
    "ax.xaxis.set_major_formatter(years_fmt)\n",
    "ax.xaxis.set_minor_locator(months)\n",
    "ax.set_ylabel('Price / Tranactions / Count / S2F')\n",
    "title_text = ax.set_title('Time History', fontweight='bold', fontsize=16)\n",
    "title_text.set_path_effects([\n",
    "    matplotlib.patheffects.Stroke(linewidth=1, foreground=(0, 0, 0, 0.7)),\n",
    "    matplotlib.patheffects.Normal()\n",
    "])"
   ]
  },
  {
   "cell_type": "code",
   "execution_count": null,
   "metadata": {},
   "outputs": [],
   "source": [
    "fig = matplotlib.pyplot.figure(figsize=(9, 4.5), dpi=144)\n",
    "ax = matplotlib.pyplot.axes([0.06, 0.08, 0.92, 0.82])\n",
    "ax.plot(d, s2f, label='S2F')\n",
    "ax.legend()\n",
    "ax.grid()\n",
    "ax.xaxis.set_major_locator(years)\n",
    "ax.xaxis.set_major_formatter(years_fmt)\n",
    "ax.xaxis.set_minor_locator(months)\n",
    "ax.set_ylabel('Price / Tranactions / Stock / S2F')\n",
    "title_text = ax.set_title('Time History', fontweight='bold', fontsize=16)\n",
    "title_text.set_path_effects([\n",
    "    matplotlib.patheffects.Stroke(linewidth=1, foreground=(0, 0, 0, 0.7)),\n",
    "    matplotlib.patheffects.Normal()\n",
    "])"
   ]
  },
  {
   "cell_type": "code",
   "execution_count": null,
   "metadata": {},
   "outputs": [],
   "source": [
    "hh = [\n",
    "    0,\n",
    "    df.index.get_loc(pd.to_datetime('2012-11-28'), method='nearest'),\n",
    "    df.index.get_loc(pd.to_datetime('2016-07-09'), method='nearest'),\n",
    "    df.index.get_loc(pd.to_datetime('2020-05-11'), method='nearest'),\n",
    "]\n",
    "print(hh, np.diff(hh))"
   ]
  },
  {
   "cell_type": "code",
   "execution_count": null,
   "metadata": {},
   "outputs": [],
   "source": [
    "# mx = np.logspace(-1, 2.5)\n",
    "# my = np.exp(3.31954 * np.log(mx) + 14.6227)"
   ]
  },
  {
   "cell_type": "code",
   "execution_count": null,
   "metadata": {},
   "outputs": [],
   "source": [
    "fig = matplotlib.pyplot.figure(figsize=(7, 4.5), dpi=144)\n",
    "ax = matplotlib.pyplot.axes([0.25, 0.12, 0.72, 0.76])\n",
    "ax.loglog(62, 8.5e12, '.', markersize=20, color='#C29E29', label='Gold (SF62, 8.5T)')\n",
    "ax.loglog(22, 308e9, '.', markersize=20, color='#999999', label='Silver (SF22, 308B)')\n",
    "\n",
    "for i in range(len(hh)):\n",
    "    b = hh[i]\n",
    "    e = len(d) if i == len(hh) - 1 else hh[i + 1]\n",
    "    x = s2f[b:e]\n",
    "    #y = p[b:e]\n",
    "    y = mc[b:e]\n",
    "    label = 'Genesis' if i == 0 else 'Halving {}'.format(i)\n",
    "    ax.loglog(x, y, '.', markersize=3, label=label)\n",
    "\n",
    "ax.legend(loc=2)\n",
    "ax.grid()\n",
    "ax.set_xlim((0.1, 200))\n",
    "ax.set_ylim((1000, 100e12))\n",
    "\n",
    "loc = []\n",
    "for i in range(3, 15):\n",
    "    loc.append(10 ** i)\n",
    "ax.yaxis.set_major_locator(matplotlib.ticker.FixedLocator(loc))\n",
    "ax.xaxis.set_major_formatter(xfmt)\n",
    "ax.yaxis.set_major_formatter(yfmt)\n",
    "ax.set_xlabel('S2F')\n",
    "# ax.set_ylabel('Market Capitalization')\n",
    "# ax.text(1.8e2, 2e-2, 'Two pizzas for 10k BTC')\n",
    "title_text = ax.set_title('Market Value', fontweight='bold', fontsize=16)\n",
    "title_text.set_path_effects([\n",
    "    matplotlib.patheffects.Stroke(linewidth=1, foreground=(0, 0, 0, 0.7)),\n",
    "    matplotlib.patheffects.Normal()\n",
    "])"
   ]
  },
  {
   "cell_type": "code",
   "execution_count": null,
   "metadata": {},
   "outputs": [],
   "source": [
    "fig.savefig(os.path.expanduser('~/Downloads/s2f.png'), facecolor='k')"
   ]
  },
  {
   "cell_type": "markdown",
   "metadata": {},
   "source": [
    "### Data Fitting"
   ]
  },
  {
   "cell_type": "code",
   "execution_count": null,
   "metadata": {},
   "outputs": [],
   "source": [
    "ii = np.sum(mc == 0)\n",
    "ix = np.expand_dims(np.log10(s2f[ii:]), 1)\n",
    "iy = np.log10(mc[ii:])\n",
    "\n",
    "linreg = LinearRegression().fit(ix, iy)\n",
    "ransac = RANSACRegressor().fit(ix, iy)\n",
    "\n",
    "mx = np.expand_dims(np.logspace(-1, 2.5), 1)\n",
    "my = 10 ** linreg.predict(np.log10(mx))\n",
    "print('Linear Regression: log10(y) = {:.4f} * log10(S2F) + {:.4f}'.format(linreg.coef_[0], linreg.intercept_))\n",
    "\n",
    "my2 = 10 ** ransac.predict(np.log10(mx))\n",
    "print('RANSAC Regression: log10(y) = {:.4f} * log10(S2F) + {:.4f}'.format(ransac.estimator_.coef_[0], ransac.estimator_.intercept_))"
   ]
  },
  {
   "cell_type": "code",
   "execution_count": null,
   "metadata": {},
   "outputs": [],
   "source": [
    "fig = matplotlib.pyplot.figure(figsize=(7, 4.5), dpi=144)\n",
    "ax = matplotlib.pyplot.axes([0.25, 0.12, 0.72, 0.76])\n",
    "ax.tick_params(axis='y')\n",
    "# ax.plot(mx, my, '--', linewidth=0.5, color='#666666')\n",
    "ax.plot(mx, my2, '--', linewidth=0.5, color='#666666')\n",
    "ax.plot(62, 8.5e12, '.', markersize=20, color='#C29E29', label='Gold (SF62, 8.5T)')\n",
    "ax.plot(22, 308e9, '.', markersize=20, color='#999999', label='Silver (SF22, 308B)')\n",
    "ax.text(52, 6e12, 'Gold (SF62, 8.5T)', fontsize=8, ha='right')\n",
    "ax.text(26, 2e11, 'Silver (SF22, 308B)', fontsize=8)\n",
    "\n",
    "for i in range(len(hh)):\n",
    "    b = hh[i]\n",
    "    e = len(d) if i == len(hh) - 1 else hh[i + 1]\n",
    "#     x = d[b:e]\n",
    "    x = s2f[b:e]\n",
    "#     y = p[b:e]\n",
    "    y = mc[b:e]\n",
    "    w = np.array(df.index[b:e] - df.index[b], dtype=np.float) / 86400e9 / 365.25 * 12\n",
    "    label = 'Genesis' if i == 0 else 'Halving {}'.format(i)\n",
    "    hs = ax.scatter(x, y, c=w, vmin=0, vmax=48, cmap='rainbow', s=3, label=label)\n",
    "# ax.legend(loc=2)\n",
    "ax.set_xscale('log')\n",
    "ax.set_yscale('log')\n",
    "ax.grid()\n",
    "# ax.set_xlim((0.1, 100))\n",
    "# ax.set_ylim((0.01, 1e6))\n",
    "ax.set_xlim((0.1, 200))\n",
    "ax.set_ylim((1e4, 100e12))\n",
    "loc = []\n",
    "for i in range(3, 15):\n",
    "    loc.append(10 ** i)\n",
    "ax.yaxis.set_major_locator(matplotlib.ticker.FixedLocator(loc))\n",
    "ax.xaxis.set_major_formatter(xfmt)\n",
    "ax.yaxis.set_major_formatter(yfmt)\n",
    "ax.set_xlabel('S2F')\n",
    "\n",
    "cax = fig.add_axes((0.55, 0.2, 0.4, 0.03))\n",
    "fig.colorbar(hs, cax=cax, orientation='horizontal')\n",
    "cax.set_title('Months After Halving')\n",
    "\n",
    "for i, p in enumerate(((1, 1e6), (3.5, 1e8), (10, 2e9), (20, 2e10))):\n",
    "    label = 'Genesis' if i == 0 else 'Halving {}'.format(i)\n",
    "    ax.text(p[0], p[1], label, fontsize=8)\n",
    "\n",
    "title_text = ax.set_title('Market Value', fontweight='bold', fontsize=16)\n",
    "title_text.set_path_effects([\n",
    "    matplotlib.patheffects.Stroke(linewidth=1, foreground=(0, 0, 0, 0.7)),\n",
    "    matplotlib.patheffects.Normal()\n",
    "])"
   ]
  },
  {
   "cell_type": "code",
   "execution_count": null,
   "metadata": {},
   "outputs": [],
   "source": [
    "fig.savefig(os.path.expanduser('~/Downloads/s2f-m.png'), facecolor='k')"
   ]
  },
  {
   "cell_type": "code",
   "execution_count": null,
   "metadata": {},
   "outputs": [],
   "source": []
  }
 ],
 "metadata": {
  "kernelspec": {
   "display_name": "Python 3",
   "language": "python",
   "name": "python3"
  },
  "language_info": {
   "codemirror_mode": {
    "name": "ipython",
    "version": 3
   },
   "file_extension": ".py",
   "mimetype": "text/x-python",
   "name": "python",
   "nbconvert_exporter": "python",
   "pygments_lexer": "ipython3",
   "version": "3.8.4"
  }
 },
 "nbformat": 4,
 "nbformat_minor": 4
}
