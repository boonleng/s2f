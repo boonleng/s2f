{
 "cells": [
  {
   "cell_type": "markdown",
   "metadata": {},
   "source": [
    "# Regression Fitting\n",
    "\n",
    "What could be a good dataset to try? How about historical price of Bitcoin?\n",
    "\n",
    "Data is downloaded from the following source(s):\n",
    " - Price history from https://www.blockchain.com/charts/market-price\n",
    " - Transaction count from https://www.blockchain.com/charts/n-transactions"
   ]
  },
  {
   "cell_type": "code",
   "execution_count": null,
   "metadata": {},
   "outputs": [],
   "source": [
    "import csv\n",
    "import datetime\n",
    "import numpy as np\n",
    "import pandas as pd\n",
    "\n",
    "import matplotlib\n",
    "import matplotlib.pyplot\n",
    "import matplotlib.patheffects\n",
    "\n",
    "from sklearn.linear_model import LinearRegression\n",
    "\n",
    "import style\n",
    "style.use_dark_theme()\n",
    "# style.use_light_theme()"
   ]
  },
  {
   "cell_type": "code",
   "execution_count": null,
   "metadata": {},
   "outputs": [],
   "source": [
    "def history_from_csv(filename, startrow=0):\n",
    "    k = 0\n",
    "    data = []\n",
    "    header = []\n",
    "    with open(filename) as file:\n",
    "        reader = csv.reader(file, delimiter=',')\n",
    "        for _ in range(startrow):\n",
    "            next(reader)\n",
    "        for row in reader:\n",
    "            if k > 0:\n",
    "                #data.append([float(x) for x in row])\n",
    "                data.append(row)\n",
    "            else:\n",
    "                header = row\n",
    "            k += 1\n",
    "    data = np.array(data)\n",
    "    return data, header"
   ]
  },
  {
   "cell_type": "code",
   "execution_count": null,
   "metadata": {},
   "outputs": [],
   "source": [
    "years = matplotlib.dates.YearLocator()             # every year\n",
    "months = matplotlib.dates.MonthLocator()           # every month\n",
    "years_fmt = matplotlib.dates.DateFormatter('%Y')"
   ]
  },
  {
   "cell_type": "markdown",
   "metadata": {},
   "source": [
    "### Price and Transaction History from CSV Files"
   ]
  },
  {
   "cell_type": "code",
   "execution_count": null,
   "metadata": {},
   "outputs": [],
   "source": [
    "filename = 'btc-price.csv'\n",
    "x, _ = history_from_csv(filename)\n",
    "d = [datetime.datetime.strptime(n, '%Y-%m-%d %H:%M:%S') for n in x[:, 0]]\n",
    "p = [float(n) for n in x[:, 1]]\n",
    "pdf = pd.DataFrame({'Price':p}, index=d)\n",
    "# wpdf = pdf.resample('W-Mon').fillna('pad')\n",
    "wpdf = pdf.resample('W-Mon').max()\n",
    "\n",
    "filename = 'btc-trns.csv'\n",
    "x, _ = history_from_csv(filename)\n",
    "d = [datetime.datetime.strptime(n, '%Y-%m-%d %H:%M:%S') for n in x[:, 0]]\n",
    "t = [int(n) for n in x[:, 1]]\n",
    "tdf = pd.DataFrame({'Transactions':t}, index=d)\n",
    "# weekly = tdf.resample('W-Mon', on='Date').sum()\n",
    "wtdf = tdf.resample('W-Mon').mean()"
   ]
  },
  {
   "cell_type": "markdown",
   "metadata": {},
   "source": [
    "### Combine the Two DataFrames"
   ]
  },
  {
   "cell_type": "code",
   "execution_count": null,
   "metadata": {},
   "outputs": [],
   "source": [
    "df = pd.concat([wpdf, wtdf], axis=1, join='inner')\n",
    "df.head(5)"
   ]
  },
  {
   "cell_type": "code",
   "execution_count": null,
   "metadata": {},
   "outputs": [],
   "source": [
    "d = df.index            # Date\n",
    "p = df.values[:, 0]     # Price\n",
    "t = df.values[:, 1]     # Transactions (Flow)\n",
    "s = np.cumsum(t)        # Stock\n",
    "s2f = s / t             # Stock-to-Flow Ratio"
   ]
  },
  {
   "cell_type": "code",
   "execution_count": null,
   "metadata": {},
   "outputs": [],
   "source": [
    "fig = matplotlib.pyplot.figure(figsize=(9, 4.5), dpi=160)\n",
    "ax = matplotlib.pyplot.axes([0.06, 0.08, 0.92, 0.82])\n",
    "ax.semilogy(d, p, label='Price')\n",
    "ax.semilogy(d, s2f, '.', markersize=2, label='S2F')\n",
    "ax.legend()\n",
    "ax.grid()\n",
    "ax.xaxis.set_major_locator(years)\n",
    "ax.xaxis.set_major_formatter(years_fmt)\n",
    "ax.xaxis.set_minor_locator(months)\n",
    "ax.set_xlabel('Date')\n",
    "ax.set_ylabel('Price / S2F Ratio')\n",
    "title_text = ax.set_title('Time History', fontweight='bold', fontsize=16)\n",
    "title_text.set_path_effects([\n",
    "    matplotlib.patheffects.Stroke(linewidth=1, foreground=(0, 0, 0, 0.7)),\n",
    "    matplotlib.patheffects.Normal()\n",
    "])"
   ]
  },
  {
   "cell_type": "code",
   "execution_count": null,
   "metadata": {},
   "outputs": [],
   "source": [
    "# df.index.get_loc('2015-07-08')\n",
    "i1 = df.index.get_loc(pd.to_datetime('2012-11-28'), method='nearest')\n",
    "i2 = df.index.get_loc(pd.to_datetime('2016-07-09'), method='nearest')\n",
    "i3 = df.index.get_loc(pd.to_datetime('2020-05-11'), method='nearest')\n",
    "print(i1, i2, i3)"
   ]
  },
  {
   "cell_type": "code",
   "execution_count": null,
   "metadata": {},
   "outputs": [],
   "source": [
    "fig = matplotlib.pyplot.figure(figsize=(7, 4.5), dpi=160)\n",
    "ax = matplotlib.pyplot.axes([0.06, 0.08, 0.92, 0.82])\n",
    "ax.tick_params(axis='y')\n",
    "ax.loglog(s2f[20:i1], p[20:i1], '.', label='Genesis')\n",
    "ax.loglog(s2f[i1:i2], p[i1:i2], '.', label='Halving 1')\n",
    "ax.loglog(s2f[i2:i3], p[i2:i3], '.', label='Halving 2')\n",
    "ax.loglog(s2f[i3:], p[i3:], '.', label='Halving 3')\n",
    "ax.legend()\n",
    "ax.grid()\n",
    "ax.set_xlim((4, 1000))\n",
    "ax.set_ylim((0.01, 200000))\n",
    "ax.set_xlabel('S2F')\n",
    "ax.set_ylabel('Price')\n",
    "title_text = ax.set_title('S2F', fontweight='bold', fontsize=16)\n",
    "title_text.set_path_effects([\n",
    "    matplotlib.patheffects.Stroke(linewidth=1, foreground=(0, 0, 0, 0.7)),\n",
    "    matplotlib.patheffects.Normal()\n",
    "])"
   ]
  },
  {
   "cell_type": "code",
   "execution_count": null,
   "metadata": {},
   "outputs": [],
   "source": [
    "x = np.array([[1, 1], [1, 2], [2, 2], [2, 3]])\n",
    "# y = 1 * x_0 + 2 * x_1 + 3\n",
    "y = np.dot(x, np.array([1, 2])) + 3\n",
    "reg = LinearRegression().fit(x, y)\n",
    "reg.score(x, y)"
   ]
  },
  {
   "cell_type": "code",
   "execution_count": null,
   "metadata": {},
   "outputs": [],
   "source": [
    "reg.coef_"
   ]
  },
  {
   "cell_type": "code",
   "execution_count": null,
   "metadata": {},
   "outputs": [],
   "source": [
    "reg.intercept_"
   ]
  }
 ],
 "metadata": {
  "kernelspec": {
   "display_name": "Python 3",
   "language": "python",
   "name": "python3"
  },
  "language_info": {
   "codemirror_mode": {
    "name": "ipython",
    "version": 3
   },
   "file_extension": ".py",
   "mimetype": "text/x-python",
   "name": "python",
   "nbconvert_exporter": "python",
   "pygments_lexer": "ipython3",
   "version": "3.8.4"
  }
 },
 "nbformat": 4,
 "nbformat_minor": 4
}
