{
 "cells": [
  {
   "cell_type": "markdown",
   "metadata": {},
   "source": [
    "# Bitcoin Transactions from Google API\n",
    "\n",
    "INFO: Data stops at 2018-09-10."
   ]
  },
  {
   "cell_type": "code",
   "execution_count": null,
   "metadata": {},
   "outputs": [],
   "source": [
    "import os\n",
    "\n",
    "import pandas as pd\n",
    "\n",
    "import matplotlib\n",
    "import matplotlib.pyplot\n",
    "import matplotlib.patheffects\n",
    "\n",
    "import style\n",
    "style.use_dark_theme()\n",
    "\n",
    "from google.cloud import bigquery"
   ]
  },
  {
   "cell_type": "code",
   "execution_count": null,
   "metadata": {},
   "outputs": [],
   "source": [
    "# Replace this with your Google API credential\n",
    "os.environ['GOOGLE_APPLICATION_CREDENTIALS'] = os.path.expanduser('~/Downloads/bitcoin-analytics-296223-24d70d86e816.json')"
   ]
  },
  {
   "cell_type": "code",
   "execution_count": null,
   "metadata": {},
   "outputs": [],
   "source": [
    "# filename = os.path.expanduser('~/Downloads/btc-trns.pkl')\n",
    "filename = 'blob/btc-trns.pkl'\n",
    "if os.path.exists(filename):\n",
    "    transactions = pd.read_pickle(filename)\n",
    "else:\n",
    "    client = bigquery.Client()\n",
    "\n",
    "    # Query by Allen Day, GooglCloud Developer Advocate (https://medium.com/@allenday)\n",
    "    query = \"\"\"\n",
    "    #standardSQL\n",
    "    SELECT\n",
    "      o.day,\n",
    "      COUNT(DISTINCT(o.output_key)) AS recipients\n",
    "    FROM (\n",
    "      SELECT\n",
    "        TIMESTAMP_MILLIS((timestamp - MOD(timestamp, 86400000))) AS day,\n",
    "        output.output_pubkey_base58 AS output_key\n",
    "      FROM\n",
    "        `bigquery-public-data.bitcoin_blockchain.transactions`,\n",
    "        UNNEST(outputs) AS output ) AS o\n",
    "    GROUP BY\n",
    "      day\n",
    "    ORDER BY\n",
    "      day\n",
    "    \"\"\"\n",
    "\n",
    "    query_job = client.query(query)\n",
    "\n",
    "    iterator = query_job.result(timeout=30)\n",
    "    rows = list(iterator)\n",
    "\n",
    "    # Transform the rows into a nice pandas dataframe\n",
    "    transactions = pd.DataFrame(data=[list(x.values()) for x in rows], columns=list(rows[0].keys()))\n",
    "\n",
    "    print('Saving a copy ...')\n",
    "    transactions.to_pickle(filename)"
   ]
  },
  {
   "cell_type": "code",
   "execution_count": null,
   "metadata": {},
   "outputs": [],
   "source": [
    "transactions.head(10)"
   ]
  },
  {
   "cell_type": "code",
   "execution_count": null,
   "metadata": {},
   "outputs": [],
   "source": [
    "x = matplotlib.dates.date2num(transactions.iloc[:, 0])\n",
    "y = transactions.iloc[:, 1]"
   ]
  },
  {
   "cell_type": "code",
   "execution_count": null,
   "metadata": {},
   "outputs": [],
   "source": [
    "fig = matplotlib.pyplot.figure(figsize=(9, 4.5), dpi=160)\n",
    "ax = matplotlib.pyplot.axes([0.06, 0.08, 0.92, 0.82])\n",
    "ax.tick_params(axis='y')\n",
    "ax.plot(x, y)\n",
    "\n",
    "ax.grid()\n",
    "\n",
    "years = matplotlib.dates.YearLocator()   # every year\n",
    "months = matplotlib.dates.MonthLocator()  # every month\n",
    "years_fmt = matplotlib.dates.DateFormatter('%Y')\n",
    "\n",
    "# format the ticks\n",
    "ax.xaxis.set_major_locator(years)\n",
    "ax.xaxis.set_major_formatter(years_fmt)\n",
    "ax.xaxis.set_minor_locator(months)\n",
    "\n",
    "ax.set_xlabel('Date')\n",
    "ax.set_ylabel('Transactions')\n",
    "title_text = ax.set_title('BTC Transactions', fontweight='bold', fontsize=16)\n",
    "title_text.set_path_effects([\n",
    "    matplotlib.patheffects.Stroke(linewidth=1, foreground=(0, 0, 0, 0.7)),\n",
    "    matplotlib.patheffects.Normal()\n",
    "])"
   ]
  },
  {
   "cell_type": "code",
   "execution_count": null,
   "metadata": {},
   "outputs": [],
   "source": [
    "transactions.iloc[:, 0]"
   ]
  },
  {
   "cell_type": "code",
   "execution_count": null,
   "metadata": {},
   "outputs": [],
   "source": []
  }
 ],
 "metadata": {
  "kernelspec": {
   "display_name": "Python 3 (ipykernel)",
   "language": "python",
   "name": "python3"
  },
  "language_info": {
   "codemirror_mode": {
    "name": "ipython",
    "version": 3
   },
   "file_extension": ".py",
   "mimetype": "text/x-python",
   "name": "python",
   "nbconvert_exporter": "python",
   "pygments_lexer": "ipython3",
   "version": "3.8.11"
  }
 },
 "nbformat": 4,
 "nbformat_minor": 4
}
