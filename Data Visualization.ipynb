{
 "cells": [
  {
   "cell_type": "markdown",
   "metadata": {},
   "source": [
    "# Data Visualization\n",
    "\n",
    "What could be a good dataset to try? How about historical price of Bitcoin?\n",
    "\n",
    "Data is downloaded from the following source(s):\n",
    " - Market capitalization https://www.blockchain.com/charts/market-cap\n",
    " - Total circulating bitcoin https://www.blockchain.com/charts/total-bitcoins"
   ]
  },
  {
   "cell_type": "code",
   "execution_count": 1,
   "metadata": {},
   "outputs": [
    {
     "ename": "ModuleNotFoundError",
     "evalue": "No module named 'numpy'",
     "output_type": "error",
     "traceback": [
      "\u001b[0;31m---------------------------------------------------------------------------\u001b[0m",
      "\u001b[0;31mModuleNotFoundError\u001b[0m                       Traceback (most recent call last)",
      "\u001b[0;32m<ipython-input-1-6a24b0c8b497>\u001b[0m in \u001b[0;36m<module>\u001b[0;34m\u001b[0m\n\u001b[1;32m      2\u001b[0m \u001b[0;32mimport\u001b[0m \u001b[0mcsv\u001b[0m\u001b[0;34m\u001b[0m\u001b[0;34m\u001b[0m\u001b[0m\n\u001b[1;32m      3\u001b[0m \u001b[0;32mimport\u001b[0m \u001b[0mdatetime\u001b[0m\u001b[0;34m\u001b[0m\u001b[0;34m\u001b[0m\u001b[0m\n\u001b[0;32m----> 4\u001b[0;31m \u001b[0;32mimport\u001b[0m \u001b[0mnumpy\u001b[0m \u001b[0;32mas\u001b[0m \u001b[0mnp\u001b[0m\u001b[0;34m\u001b[0m\u001b[0;34m\u001b[0m\u001b[0m\n\u001b[0m\u001b[1;32m      5\u001b[0m \u001b[0;32mimport\u001b[0m \u001b[0mpandas\u001b[0m \u001b[0;32mas\u001b[0m \u001b[0mpd\u001b[0m\u001b[0;34m\u001b[0m\u001b[0;34m\u001b[0m\u001b[0m\n\u001b[1;32m      6\u001b[0m \u001b[0;31m# import importlib\u001b[0m\u001b[0;34m\u001b[0m\u001b[0;34m\u001b[0m\u001b[0;34m\u001b[0m\u001b[0m\n",
      "\u001b[0;31mModuleNotFoundError\u001b[0m: No module named 'numpy'"
     ]
    }
   ],
   "source": [
    "import os\n",
    "import csv\n",
    "import datetime\n",
    "import numpy as np\n",
    "import pandas as pd\n",
    "# import importlib\n",
    "import matplotlib\n",
    "import matplotlib.pyplot\n",
    "import matplotlib.patheffects\n",
    "\n",
    "from sklearn.linear_model import LinearRegression, RANSACRegressor\n",
    "\n",
    "import data\n",
    "import style\n",
    "style.use_dark_theme()\n",
    "# style.use_light_theme()"
   ]
  },
  {
   "cell_type": "code",
   "execution_count": null,
   "metadata": {},
   "outputs": [],
   "source": [
    "def v2str(v):\n",
    "    d = int(np.maximum(-np.log10(v), 0))\n",
    "    return ('{{:,.{:d}f}}'.format(d)).format(v)\n",
    "\n",
    "xfmt = matplotlib.ticker.FuncFormatter(lambda x, pos: v2str(x))\n",
    "yfmt = matplotlib.ticker.FuncFormatter(lambda y, pos: '$' + v2str(y))\n",
    "\n",
    "years = matplotlib.dates.YearLocator()             # every year\n",
    "months = matplotlib.dates.MonthLocator()           # every month\n",
    "years_fmt = matplotlib.dates.DateFormatter('%Y')"
   ]
  },
  {
   "cell_type": "code",
   "execution_count": null,
   "metadata": {},
   "outputs": [],
   "source": [
    "# data = importlib.reload(data)"
   ]
  },
  {
   "cell_type": "code",
   "execution_count": null,
   "metadata": {},
   "outputs": [],
   "source": [
    "df = data.read(rss='M')\n",
    "# df = data.read()\n",
    "df.head(5)\n",
    "\n",
    "d = df.index                       # Date\n",
    "s = df['Stock'].values             # Stock\n",
    "f = df['Norm Mean Flow'].values    # Normalized Mean Flow\n",
    "f2 = df['Norm Tab Flow'].values    # Normalized Flow from table entries (matches better with PlanB's monthly data)\n",
    "mc = df['Market Cap'].values       # Market Capitalization (USD)\n",
    "\n",
    "s2f = s / f               # Stock-to-Flow Ratio\n",
    "s2f2 = s / f2             # Stock-to-Flow Ratio from table entries"
   ]
  },
  {
   "cell_type": "code",
   "execution_count": null,
   "metadata": {},
   "outputs": [],
   "source": [
    "df.tail(4)"
   ]
  },
  {
   "cell_type": "code",
   "execution_count": null,
   "metadata": {},
   "outputs": [],
   "source": [
    "fig = matplotlib.pyplot.figure(figsize=(9, 4.5), dpi=144)\n",
    "ax = matplotlib.pyplot.axes([0.06, 0.08, 0.92, 0.82])\n",
    "ax.semilogy(d, mc / s, label='Price')\n",
    "ax.semilogy(d, s, label='Count')\n",
    "ax.semilogy(d, s2f, label='S2F')\n",
    "ax.semilogy(d, s2f2, label='S2F-2')\n",
    "ax.legend()\n",
    "ax.grid()\n",
    "ax.xaxis.set_major_locator(years)\n",
    "ax.xaxis.set_major_formatter(years_fmt)\n",
    "ax.xaxis.set_minor_locator(months)\n",
    "ax.set_ylabel('Price / Tranactions / Count / S2F')\n",
    "title_text = ax.set_title('Time History', fontweight='bold', fontsize=16)\n",
    "title_text.set_path_effects([\n",
    "    matplotlib.patheffects.Stroke(linewidth=1, foreground=(0, 0, 0, 0.7)),\n",
    "    matplotlib.patheffects.Normal()\n",
    "])"
   ]
  },
  {
   "cell_type": "code",
   "execution_count": null,
   "metadata": {},
   "outputs": [],
   "source": [
    "np.mean(s2f2 / s2f)"
   ]
  },
  {
   "cell_type": "code",
   "execution_count": null,
   "metadata": {},
   "outputs": [],
   "source": [
    "fig = matplotlib.pyplot.figure(figsize=(9, 4.5), dpi=144)\n",
    "ax = matplotlib.pyplot.axes([0.06, 0.08, 0.92, 0.82])\n",
    "ax.plot(d, s2f, label='S2F')\n",
    "ax.plot(d, s2f2, markersize=2, label='S2F2')\n",
    "ax.legend()\n",
    "ax.grid()\n",
    "ax.xaxis.set_major_locator(years)\n",
    "ax.xaxis.set_major_formatter(years_fmt)\n",
    "ax.xaxis.set_minor_locator(months)\n",
    "ax.set_ylabel('Price / Tranactions / Stock / S2F')\n",
    "title_text = ax.set_title('Time History', fontweight='bold', fontsize=16)\n",
    "title_text.set_path_effects([\n",
    "    matplotlib.patheffects.Stroke(linewidth=1, foreground=(0, 0, 0, 0.7)),\n",
    "    matplotlib.patheffects.Normal()\n",
    "])"
   ]
  },
  {
   "cell_type": "code",
   "execution_count": null,
   "metadata": {},
   "outputs": [],
   "source": [
    "hh = [\n",
    "    0,\n",
    "    df.index.get_loc(pd.to_datetime('2012-11-28'), method='nearest'),\n",
    "    df.index.get_loc(pd.to_datetime('2016-07-09'), method='nearest'),\n",
    "    df.index.get_loc(pd.to_datetime('2020-05-11'), method='nearest'),\n",
    "]\n",
    "print(hh, np.diff(hh))"
   ]
  },
  {
   "cell_type": "code",
   "execution_count": null,
   "metadata": {},
   "outputs": [],
   "source": [
    "fig = matplotlib.pyplot.figure()\n",
    "ax = matplotlib.pyplot.axes([0.25, 0.12, 0.72, 0.76])\n",
    "ax.plot(58.3, 10.08e12, '.', markersize=20, color='#C29E29', label='Gold (SF58.3, 10.08T)')\n",
    "ax.plot(33.3, 561e9, '.', markersize=20, color='#999999', label='Silver (SF33.3, 561B)')\n",
    "\n",
    "for i in range(len(hh)):\n",
    "    b = hh[i]\n",
    "    e = len(d) if i == len(hh) - 1 else hh[i + 1]\n",
    "    x = s2f2[b:e]\n",
    "    #y = p[b:e]\n",
    "    y = mc[b:e]\n",
    "    label = 'Genesis' if i == 0 else 'Halving {}'.format(i)\n",
    "    ax.loglog(x, y, '.', markersize=3, label=label)\n",
    "\n",
    "ax.legend(loc=2)\n",
    "ax.grid()\n",
    "ax.set_xlim((0.1, 250))\n",
    "ax.set_ylim((1e4, 100e12))\n",
    "\n",
    "loc = []\n",
    "for i in range(3, 15):\n",
    "    loc.append(10 ** i)\n",
    "ax.yaxis.set_major_locator(matplotlib.ticker.FixedLocator(loc))\n",
    "ax.xaxis.set_major_formatter(xfmt)\n",
    "ax.yaxis.set_major_formatter(yfmt)\n",
    "ax.set_xlabel('S2F')\n",
    "ax.text(0.8, 2e4, 'Two pizzas for 10k BTC', fontsize=8)\n",
    "title_text = ax.set_title('Market Value', fontweight='bold', fontsize=16)\n",
    "title_text.set_path_effects([\n",
    "    matplotlib.patheffects.Stroke(linewidth=1, foreground=(0, 0, 0, 0.7)),\n",
    "    matplotlib.patheffects.Normal()\n",
    "])"
   ]
  },
  {
   "cell_type": "code",
   "execution_count": null,
   "metadata": {},
   "outputs": [],
   "source": [
    "# fig.savefig(os.path.expanduser('~/Downloads/s2f.png'), facecolor='k')"
   ]
  },
  {
   "cell_type": "markdown",
   "metadata": {},
   "source": [
    "### Data Fitting"
   ]
  },
  {
   "cell_type": "code",
   "execution_count": null,
   "metadata": {},
   "outputs": [],
   "source": [
    "ii = np.sum(mc == 0)\n",
    "# ix = np.expand_dims(np.log10(s2f[ii:]), 1)\n",
    "# ix = np.expand_dims(np.log10(s2f2[ii:]), 1)\n",
    "# iy = np.log10(mc[ii:])\n",
    "\n",
    "# Up to month 135\n",
    "ix = np.expand_dims(np.log10(s2f2[ii:136]), 1)\n",
    "iy = np.log10(mc[ii:136])\n",
    "\n",
    "linreg = LinearRegression().fit(ix, iy)\n",
    "ransac = RANSACRegressor().fit(ix, iy)\n",
    "\n",
    "mx = np.expand_dims(np.logspace(-1, 2.5), 1)\n",
    "my = 10 ** linreg.predict(np.log10(mx))\n",
    "print('Linear Regression: log10(y) = {:.4f} * log10(S2F) + {:.4f}'.format(linreg.coef_[0], linreg.intercept_))\n",
    "\n",
    "my2 = 10 ** ransac.predict(np.log10(mx))\n",
    "print('RANSAC Regression: log10(y) = {:.4f} * log10(S2F) + {:.4f}'.format(ransac.estimator_.coef_[0], ransac.estimator_.intercept_))"
   ]
  },
  {
   "cell_type": "markdown",
   "metadata": {},
   "source": [
    "### Comparison to Silver and Gold\n",
    "\n",
    "S2F and market cap numbers are from:\n",
    "\n",
    "https://medium.com/@100trillionUSD/bitcoin-stock-to-flow-cross-asset-model-50d260feed12"
   ]
  },
  {
   "cell_type": "code",
   "execution_count": null,
   "metadata": {
    "scrolled": false
   },
   "outputs": [],
   "source": [
    "fig = matplotlib.pyplot.figure()\n",
    "ax = matplotlib.pyplot.axes([0.22, 0.12, 0.73, 0.76])\n",
    "ax.tick_params(axis='y')\n",
    "# ax.plot(mx, my, '--', linewidth=0.5, color='#666666')\n",
    "ax.plot(mx, my2, '-.', linewidth=0.5, color='#FF66DD', zorder=-1)\n",
    "ax.set_xlim((0.1, 250))\n",
    "ax.set_ylim((1e4, 100e12))\n",
    "ax.set_xscale('log')\n",
    "ax.set_yscale('log')\n",
    "ax.grid()\n",
    "\n",
    "# From PlanB's article published on 3/22/2019\n",
    "# ax.plot(62, 8.5e12, '.', markersize=20, color='#C29E29', label='Gold (SF62, 8.5T)')\n",
    "# ax.plot(22, 308e9, '.', markersize=20, color='#999999', label='Silver (SF22, 308B)')\n",
    "# ax.text(51, 6e12, 'Gold (SF62, 8.5T)', fontsize=8, ha='right')\n",
    "# ax.text(17, 2e11, 'Silver (SF22, 308B)', fontsize=8, ha='right')\n",
    "\n",
    "# From PlanB's article published on 4/27/2020\n",
    "ax.plot(58.3, 10.08e12, '.', markersize=20, color='#C29E29', label='Gold (SF58.3, 10.08T)')\n",
    "ax.plot(33.3, 561e9, '.', markersize=20, color='#999999', label='Silver (SF33.3, 561B)')\n",
    "ax.text(48, 8e12, 'Gold (SF58.3, 10.08T)', fontsize=8, ha='right')\n",
    "ax.text(27, 5e11, 'Silver (SF33.3, 561B)', fontsize=8, ha='right')\n",
    "\n",
    "for i in range(len(hh)):\n",
    "    b = hh[i]\n",
    "    e = len(d) if i == len(hh) - 1 else hh[i + 1]\n",
    "    x = s2f2[b:e]\n",
    "    y = mc[b:e]\n",
    "    w = np.array(df.index[b:e] - df.index[b], dtype=np.float) / 86400e9 / 365.25 * 12\n",
    "    label = 'Genesis' if i == 0 else 'Halving {}'.format(i)\n",
    "    hs = ax.scatter(x, y, c=w, vmin=0, vmax=48, cmap='rainbow_r', s=3, label=label)\n",
    "loc = []\n",
    "for i in range(3, 15):\n",
    "    loc.append(10 ** i)\n",
    "ax.yaxis.set_major_locator(matplotlib.ticker.FixedLocator(loc))\n",
    "ax.xaxis.set_major_formatter(xfmt)\n",
    "ax.yaxis.set_major_formatter(yfmt)\n",
    "ax.set_axisbelow(True)\n",
    "ax.set_xlabel('S2F')\n",
    "\n",
    "cax = fig.add_axes((0.51, 0.2, 0.4, 0.028))\n",
    "fig.colorbar(hs, cax=cax, orientation='horizontal')\n",
    "loc = []\n",
    "for i in range(0, 49, 6):\n",
    "    loc.append(i)\n",
    "cax.xaxis.set_major_locator(matplotlib.ticker.FixedLocator(loc))\n",
    "cax.set_title('Months After Halving')\n",
    "\n",
    "for i, p in enumerate(((2, 1e6), (10, 1e8), (25, 2e9), (55, 5e10))):\n",
    "    label = 'Genesis' if i == 0 else 'Halving {}'.format(i)\n",
    "    ax.text(p[0], p[1], label, fontsize=8)\n",
    "    \n",
    "ax.text(s2f2[-1], mc[-1], '  {:,.0f}B'.format(1.0e-9 * mc[-1]), fontsize=5, ha='left', va='baseline')\n",
    "\n",
    "title_text = ax.set_title('Market Value', fontweight='bold', fontsize=16)\n",
    "title_text.set_path_effects([\n",
    "    matplotlib.patheffects.Stroke(linewidth=1, foreground=(0, 0, 0, 0.7)),\n",
    "    matplotlib.patheffects.Normal()\n",
    "])"
   ]
  },
  {
   "cell_type": "code",
   "execution_count": null,
   "metadata": {},
   "outputs": [],
   "source": [
    "fig.savefig(os.path.expanduser('~/Downloads/s2f-m2.png'), facecolor='k', dpi=320)"
   ]
  },
  {
   "cell_type": "markdown",
   "metadata": {},
   "source": [
    "### Price Forecast given specific S2F values\n",
    "\n",
    "From output above, something like these (may change when data is updated):\n",
    "```\n",
    "Linear Regression: log10(y) = 3.3186 * log10(S2F) + 6.2018\n",
    "RANSAC Regression: log10(y) = 3.2226 * log10(S2F) + 6.3039\n",
    "```"
   ]
  },
  {
   "cell_type": "code",
   "execution_count": null,
   "metadata": {},
   "outputs": [],
   "source": [
    "# Expect SF = 56 during 2020-2024\n",
    "# Double to SF = 112 during 2024-2084\n",
    "\n",
    "for x in (56, 112):\n",
    "    print('SF = {}'.format(x))\n",
    "    y = 10 ** linreg.predict(np.log10(np.expand_dims(np.array([x, ]), 0)))[0]\n",
    "    p = y / df['Stock'][-1]\n",
    "    print('         Linear: MC = {:9,.2f}B, Price = ${:,.2f}'.format(1e-9 * y, p))\n",
    "    y = 10 ** ransac.predict(np.log10(np.expand_dims(np.array([x, ]), 0)))[0]\n",
    "    p = y / df['Stock'][-1]\n",
    "    print('         RANSAC: MC = {:9,.2f}B, Price = ${:,.2f}'.format(1e-9 * y, p))"
   ]
  },
  {
   "cell_type": "code",
   "execution_count": null,
   "metadata": {},
   "outputs": [],
   "source": []
  }
 ],
 "metadata": {
  "kernelspec": {
   "display_name": "Python 3",
   "language": "python",
   "name": "python3"
  },
  "language_info": {
   "codemirror_mode": {
    "name": "ipython",
    "version": 3
   },
   "file_extension": ".py",
   "mimetype": "text/x-python",
   "name": "python",
   "nbconvert_exporter": "python",
   "pygments_lexer": "ipython3",
   "version": "3.8.2"
  }
 },
 "nbformat": 4,
 "nbformat_minor": 4
}
